{
 "cells": [
  {
   "cell_type": "code",
   "execution_count": 1,
   "metadata": {},
   "outputs": [],
   "source": [
    "import numpy as np\n",
    "from scipy import stats\n",
    "import matplotlib.pyplot as plt"
   ]
  },
  {
   "cell_type": "markdown",
   "metadata": {},
   "source": [
    "# Outline\n",
    "For efficiency the model will be functional based and run on numpy arrays.\n",
    "neurons: A vector containing the voltages for each neuron from i=0 to N\n",
    "\n",
    "weights: A connection matrix for neuron i to j. Describes how much voltages is added to neuron i when neuron j spikes. in paper, this is a i.i.d. variable that is generated at each time step. Adds randomnes to the efficiency of connections.\n",
    "\n",
    "spikes: A record of the spikes that have occured in the network. Shape (N, n_time_steps)\n",
    "\n",
    "## Tuneable parameters / functions\n",
    "- Spiking rate function\n",
    "- Distribution for neuron initialisation\n",
    "- Distribution for weights (generated at each time step)\n",
    "- \n",
    "\n",
    "## Spiking Rate \n",
    "Possible forms to explore\n",
    "- Quadratic\n",
    "- Linear\n",
    "\n",
    "\n",
    "\n",
    "## TODO\n",
    "- [ ] Add in a connectivity parameter"
   ]
  },
  {
   "cell_type": "code",
   "execution_count": 12,
   "metadata": {},
   "outputs": [],
   "source": [
    "class Result:\n",
    "    \n",
    "    def convert_spike_record_to_time(self, spike_record):\n",
    "        \"\"\"\n",
    "        Converts a bianry spike record of size (N, time_steps) into a list of arrays.\n",
    "        For each neuron an array is created listing the time (seconds) at which the neuron spiked.\n",
    "        N.b. the array of each neuron will\n",
    "         \"\"\"\n",
    "        time_record = []\n",
    "        for i in range(spike_record.shape[0]):\n",
    "            record = np.array(np.where(spike_record[i,:] == 1)).flatten() * self.dt\n",
    "            time_record.append(record)\n",
    "        return time_record\n",
    "    \n",
    "    def last_spike(self, time_record):\n",
    "        maximum = 0\n",
    "        for neuron in time_record:\n",
    "            length = len(neuron)\n",
    "            maximum = length if length > maximum else maximum\n",
    "        return maximum\n",
    "            \n",
    "            \n",
    "    def __init__(self, spike_record, dt):\n",
    "        self.spike_record = spike_record\n",
    "        self.dt = dt\n",
    "        self.time_record = self.convert_spike_record_to_time(spike_record)\n",
    "        self.last_spike = self.last_spike(self.time_record)\n",
    "        \n",
    "\n",
    "def spiking_rate(voltage):\n",
    "    \"\"\"\n",
    "    The spiking rate function, b(x) in the paper. If b(0) = 0 then a finite network dies. \n",
    "    Ensuring all outputs are in range [0,1] using % 1 \n",
    "    :param voltage: Voltage of a neuron\n",
    "    :type: float\n",
    "    :return: Probability of spiking \n",
    "    : \n",
    "    \"\"\"\n",
    "    if voltage < 0:\n",
    "        raise ValueError(\"voltage should be non-negative\")\n",
    "    return (voltage**3 * 3E9)\n",
    "\n",
    "def get_spike_addition(i, spike_record, weights):\n",
    "    \"\"\"\n",
    "    Given the spike_record and weights for the time step, returns the voltage to be added to neuron i \n",
    "    due to spiking neurons. \n",
    "    \"\"\"\n",
    "    # convert boolean array into locations\n",
    "    \n",
    "    spiked_j = np.array(np.where(spike_record == 1))\n",
    "    spiked_j = spiked_j.flatten()\n",
    "    # remove neuron if it is i\n",
    "    spiked_j = np.fromiter((j for j in spiked_j if j != i), np.dtype(int))\n",
    "    # multiple each j by value in weights\n",
    "    added_voltage = weights[i, spiked_j]\n",
    "    return sum(added_voltage)\n",
    "\n",
    "\n",
    "    \n",
    "\n",
    "def run_simulation(N=10, dt=1E-5, end_time=3):\n",
    "    \"\"\"\n",
    "    :param N: number of neurons\n",
    "    :param dt: time step lenght in seconds\n",
    "    :param end_time: end time of simulation in seconds\n",
    "    \"\"\"\n",
    "    neurons = np.zeros(N)\n",
    "    neuron_rate = np.zeros(N)\n",
    "    time_points = np.arange(0,end_time,dt)\n",
    "    n_steps = len(time_points)\n",
    "    spike_record = np.zeros((N,n_steps))\n",
    "    # vecorize the spiking rate function\n",
    "    spiking_rate_v = np.vectorize(spiking_rate)\n",
    "    weight_matrix = np.ones((N,N))\n",
    "\n",
    "    # Intialize the starting voltage of neurons, using gaussian with mu=1, s.d.=0.25\n",
    "    # Should maybe change to truncated normal to prevent -ve values\n",
    "    neurons = np.random.normal(loc=70,scale=25,size=N)\n",
    "\n",
    "\n",
    "    \n",
    "    for step in range(n_steps):\n",
    "\n",
    "        # Check which neurons are spiking in this time step\n",
    "        # First calculate the spiking rate at this time point for each neuron.\n",
    "        # The spiking rate * the time period\n",
    "        neuron_rate = spiking_rate_v(neurons) * dt\n",
    "        # Calculate which have spiked and add to the array of spikes\n",
    "        # If the neuron i has spiked at step n, change value of spike_record(i,n) = 1\n",
    "        spike_record[:,step] = np.array(list(map(stats.bernoulli.rvs, neuron_rate)))\n",
    "        # Change the voltage of spiked neurons to 0\n",
    "        neurons[spike_record[:,step] == 1] = 0\n",
    "\n",
    "        # Update the voltage of each neuron. Subtract exponential decay and then add on spiking.\n",
    "        # Xi = -X(t) * dt\n",
    "        neurons = neurons - neurons * dt\n",
    "        # Add voltage due to spikes\n",
    "        # Create a new random weight matrix\n",
    "        weight_matrix = np.random.uniform(low=0, high=0.5,size=(N,N))\n",
    "        for i in range(N):\n",
    "            neurons[i] = neurons[i] + get_spike_addition(i, spike_record[:,step], weight_matrix)\n",
    "\n",
    "    # Create result class and return it\n",
    "    result = Result(spike_record, dt)\n",
    "    return result\n",
    "                          \n",
    "        "
   ]
  },
  {
   "cell_type": "code",
   "execution_count": 13,
   "metadata": {},
   "outputs": [
    {
     "data": {
      "text/plain": [
       "[<matplotlib.collections.EventCollection at 0x7fba3dbba9d0>,\n",
       " <matplotlib.collections.EventCollection at 0x7fba3dbbad90>,\n",
       " <matplotlib.collections.EventCollection at 0x7fba3dc20190>,\n",
       " <matplotlib.collections.EventCollection at 0x7fba3dc204d0>,\n",
       " <matplotlib.collections.EventCollection at 0x7fba3dc20850>,\n",
       " <matplotlib.collections.EventCollection at 0x7fba3dc20bd0>,\n",
       " <matplotlib.collections.EventCollection at 0x7fba3dc20fd0>,\n",
       " <matplotlib.collections.EventCollection at 0x7fba3dc2c350>,\n",
       " <matplotlib.collections.EventCollection at 0x7fba3dc2c710>,\n",
       " <matplotlib.collections.EventCollection at 0x7fba3dc20c10>]"
      ]
     },
     "execution_count": 13,
     "metadata": {},
     "output_type": "execute_result"
    },
    {
     "data": {
      "image/png": "[encoded data removed]",
      "text/plain": [
       "<Figure size 432x288 with 1 Axes>"
      ]
     },
     "metadata": {
      "needs_background": "light"
     },
     "output_type": "display_data"
    }
   ],
   "source": [
    "result = run_simulation(N=10,end_time=4, dt=1E-4)\n",
    "plt.eventplot(result.time_record)\n"
   ]
  },
  {
   "cell_type": "code",
   "execution_count": null,
   "metadata": {},
   "outputs": [],
   "source": []
  }
 ],
 "metadata": {
  "kernelspec": {
   "display_name": "Python 3",
   "language": "python",
   "name": "python3"
  },
  "language_info": {
   "codemirror_mode": {
    "name": "ipython",
    "version": 3
   },
   "file_extension": ".py",
   "mimetype": "text/x-python",
   "name": "python",
   "nbconvert_exporter": "python",
   "pygments_lexer": "ipython3",
   "version": "3.7.9"
  }
 },
 "nbformat": 4,
 "nbformat_minor": 4
}
